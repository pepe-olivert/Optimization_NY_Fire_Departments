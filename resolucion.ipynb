{
 "cells": [
  {
   "cell_type": "code",
   "execution_count": null,
   "metadata": {},
   "outputs": [],
   "source": [
    "!pip install ortools"
   ]
  },
  {
   "cell_type": "code",
   "execution_count": null,
   "metadata": {},
   "outputs": [],
   "source": [
    "from ortools.linear_solver import pywraplp\n",
    "from numpy import average, std"
   ]
  },
  {
   "cell_type": "code",
   "execution_count": null,
   "metadata": {},
   "outputs": [],
   "source": [
    "solver_scip = pywraplp.Solver.CreateSolver(\"SCIP\") # Example, creating a SCIP solver\n",
    "solver_cbc = pywraplp.Solver.CreateSolver(\"CBC\") # Example, creating a CBC solver\n",
    "solver_glop = pywraplp.Solver.CreateSolver(\"GLOP\") # Example, creating a SCIP solver"
   ]
  },
  {
   "cell_type": "code",
   "execution_count": null,
   "metadata": {},
   "outputs": [],
   "source": [
    "solver = solver_glop\n",
    "\n",
    "variables = {}\n",
    "\n",
    "for i in range(I):\n",
    "  for j in range(J):\n",
    "    for k in range(K):\n",
    "      for l in range(L):\n",
    "        v = solver.NumVar(0, solver.infinity(), \"Vehicles of type \" + index2vehicle(j) + \" assigned to station \" + index2station(l) + \" to cover the neighbourhood \" + index2neighbourhood(k) + \" in shift \" + index2shift(i))\n",
    "        variables[(i,j,k,l)] = v"
   ]
  },
  {
   "cell_type": "code",
   "execution_count": null,
   "metadata": {},
   "outputs": [],
   "source": [
    "objective = solver.Objective()\n",
    "objective.SetMinimization()\n",
    "for i in range(number_origins):\n",
    "  for j in range(number_destinations):\n",
    "    v = variables[(i,j)]\n",
    "    cost = transportation_cost_per_unit[(i,j)]\n",
    "    objective.SetCoefficient(v, cost)"
   ]
  },
  {
   "cell_type": "code",
   "execution_count": null,
   "metadata": {},
   "outputs": [],
   "source": [
    "station_capacity = []\n",
    "\n",
    "for l in range(L):\n",
    "  capacity = capacity_at_station[l]\n",
    "  for i in range(I):\n",
    "    c = solver.Constraint(-solver.infinity(), capacity)\n",
    "    for j in range(J):\n",
    "      for k in range(K):\n",
    "        v = X[(i,j,k,l)]\n",
    "        c.SetCoefficient(v, 1)\n",
    "    station_capacity.append(c)"
   ]
  },
  {
   "cell_type": "code",
   "execution_count": null,
   "metadata": {},
   "outputs": [],
   "source": [
    "nine_minutes = []\n",
    "\n",
    "for k in range(K):\n",
    "  for i in range(I):\n",
    "    c = solver.Constraint(1, solver.infinity())\n",
    "    for l in range(L):\n",
    "      is_inside = station_inside[(k,l)]\n",
    "      for j in range(J):\n",
    "        v = X[(i,j,k,l)]\n",
    "        c.SetCoefficient(v, is_inside)\n",
    "    nine_minutes.append(c)"
   ]
  },
  {
   "cell_type": "code",
   "execution_count": null,
   "metadata": {},
   "outputs": [],
   "source": [
    "solver = pywraplp.Solver.CreateSolver(\"GLOP\")\n",
    "\n",
    "variables = {}\n",
    "\n",
    "for i in range(number_origins):\n",
    "  for j in range(number_destinations):\n",
    "    v = solver.NumVar(0, solver.infinity(), \"Units transported between: \" + str((i,j)))\n",
    "    variables[(i,j)] = v\n",
    "\n",
    "objective = solver.Objective()\n",
    "objective.SetMinimization()\n",
    "for i in range(number_origins):\n",
    "  for j in range(number_destinations):\n",
    "    v = variables[(i,j)]\n",
    "    cost = transportation_cost_per_unit[(i,j)]\n",
    "    objective.SetCoefficient(v, cost)\n",
    "\n",
    "stock_constraints = []\n",
    "\n",
    "for i in range(number_origins):\n",
    "  stock = stock_at_origin[i]\n",
    "  c = solver.Constraint(-solver.infinity(), stock)\n",
    "  for j in range(number_destinations):\n",
    "    v = variables[(i,j)]\n",
    "    c.SetCoefficient(v, 1)\n",
    "  stock_constraints.append(c)\n",
    "\n",
    "demand_constraints = []\n",
    "\n",
    "for j in range(number_destinations):\n",
    "  min_demand = demand_at_destination[j]\n",
    "  c = solver.Constraint(min_demand, solver.infinity())\n",
    "  for i in range(number_origins):\n",
    "    v = variables[(i,j)]\n",
    "    c.SetCoefficient(v,1)\n",
    "  demand_constraints.append(c)\n",
    "\n",
    "result = solver.Solve()\n",
    "\n",
    "if result == solver.ABNORMAL :\n",
    "  print(\"Execution finished by an error\")\n",
    "elif result == solver.FEASIBLE :\n",
    "  print(\"In the specified time limit the solver has found a feasible solution\")\n",
    "  for i in range(number_origins):\n",
    "    for j in range(number_destinations):\n",
    "      v = variables[(i,j)]\n",
    "      if v.SolutionValue()>0:\n",
    "        print(v, v.solution_value())\n",
    "  print(\"The value for the objective function is\", objective.Value())\n",
    "elif result == solver.INFEASIBLE :\n",
    "  print(\"There is no feasible solution for the problem\")\n",
    "elif result == solver.NOT_SOLVED :\n",
    "  print(\"In the specified time limit the solver has not found any feasible solution\")\n",
    "elif result == solver.OPTIMAL :\n",
    "  print(\"In the specified time limit the solver has found a feasible solution\")\n",
    "  for i in range(number_origins):\n",
    "    for j in range(number_destinations):\n",
    "      v = variables[(i,j)]\n",
    "      if v.SolutionValue()>0:\n",
    "        print(v, v.solution_value())\n",
    "  print(\"The optimal value for the objective function is\", objective.Value())\n",
    "elif result == solver.UNBOUNDED :\n",
    "  print(\"The solution is unbounded\")\n",
    "else :\n",
    "  print(\"Unknown error code\")"
   ]
  }
 ],
 "metadata": {
  "language_info": {
   "name": "python"
  }
 },
 "nbformat": 4,
 "nbformat_minor": 2
}
