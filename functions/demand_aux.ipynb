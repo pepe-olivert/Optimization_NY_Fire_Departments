{
 "cells": [
  {
   "cell_type": "code",
   "execution_count": 1,
   "metadata": {},
   "outputs": [],
   "source": [
    "import pandas as pd\n",
    "import json\n",
    "import requests"
   ]
  },
  {
   "cell_type": "code",
   "execution_count": 2,
   "metadata": {},
   "outputs": [],
   "source": [
    "response = requests.get(\"https://gitlab.com/drvicsana/cop-proyecto-2023/-/raw/main/project_data/incidentes2019.json\")\n",
    "incidents_db = json.loads(response.text)\n",
    "response1 = requests.get(\"https://gitlab.com/drvicsana/cop-proyecto-2023/-/raw/main/project_data/distancias_estaciones_barrios.json\")\n",
    "distances_stations_ntas_db = json.loads(response1.text)\n",
    "neighbors = distances_stations_ntas_db[\"42 South Street\"].keys()"
   ]
  },
  {
   "cell_type": "code",
   "execution_count": 3,
   "metadata": {},
   "outputs": [],
   "source": [
    "ev = 197\n",
    "lv = 143\n",
    "rv = 5\n",
    "sv = 8\n",
    "hv = 1"
   ]
  },
  {
   "cell_type": "code",
   "execution_count": 4,
   "metadata": {},
   "outputs": [],
   "source": [
    "df =pd.DataFrame()"
   ]
  },
  {
   "cell_type": "code",
   "execution_count": 5,
   "metadata": {},
   "outputs": [],
   "source": [
    "nta = [elem[\"nta\"] for elem in incidents_db]\n",
    "units = [elem[\"units\"] for elem in incidents_db]\n",
    "incident_duration = [elem[\"incident_duration\"] for elem in incidents_db]\n",
    "first_shift = [elem[\"is_first_shift\"] for elem in incidents_db]\n",
    "df[\"nta\"]=nta\n",
    "df[\"units\"]=units\n",
    "df[\"incident_duration\"]=incident_duration\n",
    "df[\"first_shift\"]=first_shift"
   ]
  },
  {
   "cell_type": "code",
   "execution_count": 6,
   "metadata": {},
   "outputs": [],
   "source": [
    "f_shift_db = df[df[\"first_shift\"]==True].reset_index().drop([\"index\"],axis=1)\n",
    "s_shift_db = df[df[\"first_shift\"]==False].reset_index().drop([\"index\"],axis=1)"
   ]
  },
  {
   "cell_type": "code",
   "execution_count": 90,
   "metadata": {},
   "outputs": [
    {
     "data": {
      "text/html": [
       "<div>\n",
       "<style scoped>\n",
       "    .dataframe tbody tr th:only-of-type {\n",
       "        vertical-align: middle;\n",
       "    }\n",
       "\n",
       "    .dataframe tbody tr th {\n",
       "        vertical-align: top;\n",
       "    }\n",
       "\n",
       "    .dataframe thead th {\n",
       "        text-align: right;\n",
       "    }\n",
       "</style>\n",
       "<table border=\"1\" class=\"dataframe\">\n",
       "  <thead>\n",
       "    <tr style=\"text-align: right;\">\n",
       "      <th></th>\n",
       "      <th>nta</th>\n",
       "      <th>units</th>\n",
       "      <th>incident_duration</th>\n",
       "      <th>first_shift</th>\n",
       "    </tr>\n",
       "  </thead>\n",
       "  <tbody>\n",
       "    <tr>\n",
       "      <th>0</th>\n",
       "      <td>MN03</td>\n",
       "      <td>[ladder]</td>\n",
       "      <td>779.0</td>\n",
       "      <td>True</td>\n",
       "    </tr>\n",
       "    <tr>\n",
       "      <th>1</th>\n",
       "      <td>MN23</td>\n",
       "      <td>[engine]</td>\n",
       "      <td>1935.0</td>\n",
       "      <td>True</td>\n",
       "    </tr>\n",
       "    <tr>\n",
       "      <th>2</th>\n",
       "      <td>BK43</td>\n",
       "      <td>[ladder]</td>\n",
       "      <td>521.0</td>\n",
       "      <td>True</td>\n",
       "    </tr>\n",
       "    <tr>\n",
       "      <th>3</th>\n",
       "      <td>BX14</td>\n",
       "      <td>[engine]</td>\n",
       "      <td>1206.0</td>\n",
       "      <td>True</td>\n",
       "    </tr>\n",
       "    <tr>\n",
       "      <th>4</th>\n",
       "      <td>BK33</td>\n",
       "      <td>[ladder]</td>\n",
       "      <td>730.0</td>\n",
       "      <td>True</td>\n",
       "    </tr>\n",
       "    <tr>\n",
       "      <th>...</th>\n",
       "      <td>...</td>\n",
       "      <td>...</td>\n",
       "      <td>...</td>\n",
       "      <td>...</td>\n",
       "    </tr>\n",
       "    <tr>\n",
       "      <th>59360</th>\n",
       "      <td>QN26</td>\n",
       "      <td>[ladder]</td>\n",
       "      <td>339.0</td>\n",
       "      <td>True</td>\n",
       "    </tr>\n",
       "    <tr>\n",
       "      <th>59361</th>\n",
       "      <td>BX44</td>\n",
       "      <td>[engine]</td>\n",
       "      <td>710.0</td>\n",
       "      <td>True</td>\n",
       "    </tr>\n",
       "    <tr>\n",
       "      <th>59362</th>\n",
       "      <td>MN23</td>\n",
       "      <td>[engine, ladder, ladder, ladder, engine, engine]</td>\n",
       "      <td>2555.0</td>\n",
       "      <td>True</td>\n",
       "    </tr>\n",
       "    <tr>\n",
       "      <th>59363</th>\n",
       "      <td>QN62</td>\n",
       "      <td>[rescue]</td>\n",
       "      <td>1860.0</td>\n",
       "      <td>True</td>\n",
       "    </tr>\n",
       "    <tr>\n",
       "      <th>59364</th>\n",
       "      <td>SI07</td>\n",
       "      <td>[engine, ladder]</td>\n",
       "      <td>1117.0</td>\n",
       "      <td>True</td>\n",
       "    </tr>\n",
       "  </tbody>\n",
       "</table>\n",
       "<p>59365 rows × 4 columns</p>\n",
       "</div>"
      ],
      "text/plain": [
       "        nta                                             units  \\\n",
       "0      MN03                                          [ladder]   \n",
       "1      MN23                                          [engine]   \n",
       "2      BK43                                          [ladder]   \n",
       "3      BX14                                          [engine]   \n",
       "4      BK33                                          [ladder]   \n",
       "...     ...                                               ...   \n",
       "59360  QN26                                          [ladder]   \n",
       "59361  BX44                                          [engine]   \n",
       "59362  MN23  [engine, ladder, ladder, ladder, engine, engine]   \n",
       "59363  QN62                                          [rescue]   \n",
       "59364  SI07                                  [engine, ladder]   \n",
       "\n",
       "       incident_duration  first_shift  \n",
       "0                  779.0         True  \n",
       "1                 1935.0         True  \n",
       "2                  521.0         True  \n",
       "3                 1206.0         True  \n",
       "4                  730.0         True  \n",
       "...                  ...          ...  \n",
       "59360              339.0         True  \n",
       "59361              710.0         True  \n",
       "59362             2555.0         True  \n",
       "59363             1860.0         True  \n",
       "59364             1117.0         True  \n",
       "\n",
       "[59365 rows x 4 columns]"
      ]
     },
     "execution_count": 90,
     "metadata": {},
     "output_type": "execute_result"
    }
   ],
   "source": [
    "f_shift_db"
   ]
  },
  {
   "cell_type": "code",
   "execution_count": 7,
   "metadata": {},
   "outputs": [],
   "source": [
    "units_per_nta_per_shift1 = f_shift_db.groupby(by=\"nta\")[\"units\"].sum()\n",
    "units_per_nta_per_shift2 = s_shift_db.groupby(by=\"nta\")[\"units\"].sum()"
   ]
  },
  {
   "cell_type": "code",
   "execution_count": 8,
   "metadata": {},
   "outputs": [],
   "source": [
    "n1 = list(units_per_nta_per_shift1.index)\n",
    "n2 = list(units_per_nta_per_shift2.index)"
   ]
  },
  {
   "cell_type": "code",
   "execution_count": 9,
   "metadata": {},
   "outputs": [],
   "source": [
    "ladders = 0\n",
    "engines = 0\n",
    "squads = 0\n",
    "rescues = 0\n",
    "ha = 0\n",
    "for elem in units_per_nta_per_shift1:\n",
    "    \n",
    "    for e in elem:\n",
    "        if e == \"ladder\":ladders+=1\n",
    "        elif e == \"squad\": squads+=1\n",
    "        elif e == \"engine\": engines+=1\n",
    "        elif e == \"hazardous\": ha+=1\n",
    "        else : rescues+=1"
   ]
  },
  {
   "cell_type": "code",
   "execution_count": 10,
   "metadata": {},
   "outputs": [
    {
     "name": "stdout",
     "output_type": "stream",
     "text": [
      "56203\n",
      "2415\n",
      "47109\n",
      "4702\n",
      "2319\n"
     ]
    }
   ],
   "source": [
    "print(ladders)\n",
    "print(squads)\n",
    "print(engines)\n",
    "print(rescues)\n",
    "print(ha)"
   ]
  },
  {
   "cell_type": "code",
   "execution_count": 11,
   "metadata": {},
   "outputs": [],
   "source": [
    "ntas = []\n",
    "engines_vehicles = []\n",
    "squad_vehicles = []\n",
    "rescue_vehicles=[]\n",
    "ha_vehicles = []\n",
    "ladder_vehicles = []\n",
    "\n",
    "for i,elem in enumerate(units_per_nta_per_shift1):\n",
    "    l = elem.count('ladder')\n",
    "    e = elem.count('engine')\n",
    "    h = elem.count('hazardous')\n",
    "    s = elem.count('squad')\n",
    "    r = elem.count('rescue')\n",
    "    \n",
    "    s_l = l/ladders\n",
    "    s_e = e/engines\n",
    "    s_h = h/ha\n",
    "    s_s = s/squads\n",
    "    s_r = r/rescues\n",
    "\n",
    "    ntas.append(n1[i])\n",
    "    engines_vehicles.append(s_e*ev)\n",
    "    rescue_vehicles.append(s_r*rv)\n",
    "    squad_vehicles.append(s_s*sv)\n",
    "    ha_vehicles.append(s_h*hv)\n",
    "    ladder_vehicles.append(s_l*lv)\n",
    "\n",
    "\n",
    "\n",
    "    "
   ]
  },
  {
   "cell_type": "code",
   "execution_count": 12,
   "metadata": {},
   "outputs": [],
   "source": [
    "ladders2 = 0\n",
    "engines2 = 0\n",
    "squads2 = 0\n",
    "rescues2 = 0\n",
    "ha2 = 0\n",
    "for elem in units_per_nta_per_shift2:\n",
    "    \n",
    "    for e in elem:\n",
    "        if e == \"ladder\":ladders2+=1\n",
    "        elif e == \"squad\": squads2+=1\n",
    "        elif e == \"engine\": engines2+=1\n",
    "        elif e == \"hazardous\": ha2+=1\n",
    "        else : rescues2+=1"
   ]
  },
  {
   "cell_type": "code",
   "execution_count": 13,
   "metadata": {},
   "outputs": [],
   "source": [
    "for i,elem in enumerate(units_per_nta_per_shift2):\n",
    "    l = elem.count('ladder')\n",
    "    e = elem.count('engine')\n",
    "    h = elem.count('hazardous')\n",
    "    s = elem.count('squad')\n",
    "    r = elem.count('rescue')\n",
    "    \n",
    "    s_l = l/ladders\n",
    "    s_e = e/engines\n",
    "    s_h = h/ha\n",
    "    s_s = s/squads\n",
    "    s_r = r/rescues\n",
    "\n",
    "    ntas.append(n2[i])\n",
    "    engines_vehicles.append(s_e*ev)\n",
    "    rescue_vehicles.append(s_r*rv)\n",
    "    squad_vehicles.append(s_s*sv)\n",
    "    ha_vehicles.append(s_h*hv)\n",
    "    ladder_vehicles.append(s_l*lv)\n",
    "\n",
    "\n"
   ]
  },
  {
   "cell_type": "code",
   "execution_count": 14,
   "metadata": {},
   "outputs": [],
   "source": [
    "df_final = pd.DataFrame()\n",
    "df_final[\"nta\"]= ntas\n",
    "df_final[\"engines\"]=engines_vehicles\n",
    "df_final[\"squads\"]=squad_vehicles\n",
    "df_final[\"ladders\"]=ladder_vehicles\n",
    "df_final[\"ha\"]=ha_vehicles\n",
    "df_final[\"rescue\"]=rescue_vehicles\n",
    "df_final[\"shift\"]=[1]*45+[0]*44"
   ]
  },
  {
   "cell_type": "code",
   "execution_count": 15,
   "metadata": {},
   "outputs": [],
   "source": [
    "df_final.to_csv(\"/home/vant/Documentos/mySpace/cuarto/opt/projectI/Optimization_NY_Fire_Departments/aux_data/bijk.csv\")"
   ]
  }
 ],
 "metadata": {
  "kernelspec": {
   "display_name": "Python 3",
   "language": "python",
   "name": "python3"
  },
  "language_info": {
   "codemirror_mode": {
    "name": "ipython",
    "version": 3
   },
   "file_extension": ".py",
   "mimetype": "text/x-python",
   "name": "python",
   "nbconvert_exporter": "python",
   "pygments_lexer": "ipython3",
   "version": "3.10.12"
  }
 },
 "nbformat": 4,
 "nbformat_minor": 2
}
