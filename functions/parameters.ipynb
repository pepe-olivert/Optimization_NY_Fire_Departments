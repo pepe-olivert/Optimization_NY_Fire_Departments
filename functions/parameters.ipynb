{
 "cells": [
  {
   "cell_type": "code",
   "execution_count": 1,
   "metadata": {},
   "outputs": [],
   "source": [
    "import requests\n",
    "import json\n",
    "import pandas as pd"
   ]
  },
  {
   "cell_type": "markdown",
   "metadata": {},
   "source": [
    "### Skl matrix, 1 if station l is closer than 540s to neighbor k"
   ]
  },
  {
   "cell_type": "code",
   "execution_count": 2,
   "metadata": {},
   "outputs": [],
   "source": [
    "response = requests.get(\"https://gitlab.com/drvicsana/cop-proyecto-2023/-/raw/main/project_data/distancias_estaciones_barrios.json\")\n",
    "distances_stations_ntas_db = json.loads(response.text)\n",
    "neighbors = distances_stations_ntas_db[\"42 South Street\"].keys() \n",
    "df = pd.DataFrame(distances_stations_ntas_db).transpose()"
   ]
  },
  {
   "cell_type": "code",
   "execution_count": 9,
   "metadata": {},
   "outputs": [],
   "source": [
    "skl = df"
   ]
  },
  {
   "cell_type": "code",
   "execution_count": 10,
   "metadata": {},
   "outputs": [],
   "source": [
    "for i in range(len(df)):\n",
    "    for n in neighbors:\n",
    "        if df[n][i]<=540:skl[n][i]=1\n",
    "        else:skl[n][i]=0"
   ]
  },
  {
   "cell_type": "code",
   "execution_count": 12,
   "metadata": {},
   "outputs": [],
   "source": [
    "skl.to_csv(\"/home/vant/Documentos/mySpace/cuarto/opt/projectI/Optimization_NY_Fire_Departments/aux_data/skl.csv\")"
   ]
  },
  {
   "cell_type": "markdown",
   "metadata": {},
   "source": [
    "### Distances between station l and neighbor k"
   ]
  },
  {
   "cell_type": "code",
   "execution_count": 13,
   "metadata": {},
   "outputs": [],
   "source": [
    "response = requests.get(\"https://gitlab.com/drvicsana/cop-proyecto-2023/-/raw/main/project_data/distancias_estaciones_barrios.json\")\n",
    "distances_stations_ntas_db = json.loads(response.text) \n",
    "dlk = pd.DataFrame(distances_stations_ntas_db).transpose()\n",
    "dlk.to_csv(\"/home/vant/Documentos/mySpace/cuarto/opt/projectI/Optimization_NY_Fire_Departments/aux_data/dlk.csv\")"
   ]
  },
  {
   "cell_type": "markdown",
   "metadata": {},
   "source": [
    "### Cost of hazmat in station l in shift i"
   ]
  },
  {
   "cell_type": "code",
   "execution_count": 35,
   "metadata": {},
   "outputs": [],
   "source": [
    "d = pd.read_csv(\"/home/vant/Documentos/mySpace/cuarto/opt/projectI/Optimization_NY_Fire_Departments/aux_data/dlk.csv\")\n",
    "b = pd.read_csv(\"/home/vant/Documentos/mySpace/cuarto/opt/projectI/Optimization_NY_Fire_Departments/aux_data/bijk.csv\").drop(['Unnamed: 0'],axis=1)"
   ]
  },
  {
   "cell_type": "code",
   "execution_count": 36,
   "metadata": {},
   "outputs": [],
   "source": [
    "aux = list(d['Unnamed: 0'])\n",
    "d=d.drop(['Unnamed: 0'],axis=1)\n",
    "d = d.set_axis(aux)"
   ]
  },
  {
   "cell_type": "code",
   "execution_count": 49,
   "metadata": {},
   "outputs": [],
   "source": [
    "hazmat_1 = {b['nta'][i]:b['ha'][i] for i in range(len(b)) if b['shift'][i]==1}\n",
    "hazmat_0 = {b['nta'][i]:b['ha'][i] for i in range(len(b)) if b['shift'][i]==0}"
   ]
  },
  {
   "cell_type": "code",
   "execution_count": 65,
   "metadata": {},
   "outputs": [],
   "source": [
    "costs_ha1 = []\n",
    "for k,v in hazmat_1.items():\n",
    "    acum = 0\n",
    "    for i in range(len(d)):\n",
    "        value = d.iloc[i][k]*1/v\n",
    "        acum+=value\n",
    "    costs_ha1.append(acum/45)\n",
    "\n",
    "costs_ha2 = []\n",
    "for k,v in hazmat_0.items():\n",
    "    acum = 0\n",
    "    for i in range(len(d)):\n",
    "        value = d.iloc[i][k]*1/v\n",
    "        acum+=value\n",
    "    costs_ha2.append(acum/44)\n",
    "\n",
    "costs_ha=costs_ha1+costs_ha2   "
   ]
  },
  {
   "cell_type": "markdown",
   "metadata": {},
   "source": [
    "### Cost of squads in station l in shift i"
   ]
  },
  {
   "cell_type": "code",
   "execution_count": 68,
   "metadata": {},
   "outputs": [],
   "source": [
    "squads_1 = {b['nta'][i]:b['squads'][i] for i in range(len(b)) if b['shift'][i]==1}\n",
    "squads_0 = {b['nta'][i]:b['squads'][i] for i in range(len(b)) if b['shift'][i]==0}"
   ]
  },
  {
   "cell_type": "code",
   "execution_count": 69,
   "metadata": {},
   "outputs": [
    {
     "name": "stderr",
     "output_type": "stream",
     "text": [
      "/tmp/ipykernel_49560/2225570417.py:13: RuntimeWarning: divide by zero encountered in scalar divide\n",
      "  value = d.iloc[i][k]*1/v\n"
     ]
    }
   ],
   "source": [
    "costs_squads1 = []\n",
    "for k,v in squads_1.items():\n",
    "    acum = 0\n",
    "    for i in range(len(d)):\n",
    "        value = d.iloc[i][k]*1/v\n",
    "        acum+=value\n",
    "    costs_squads1.append(acum/45)\n",
    "\n",
    "costs_squads2 = []\n",
    "for k,v in squads_0.items():\n",
    "    acum = 0\n",
    "    for i in range(len(d)):\n",
    "        value = d.iloc[i][k]*1/v\n",
    "        acum+=value\n",
    "    costs_squads2.append(acum/44)\n",
    "\n",
    "costs_squads=costs_squads1+costs_squads2 "
   ]
  },
  {
   "cell_type": "markdown",
   "metadata": {},
   "source": [
    "### Neighbor k belongs to borough v"
   ]
  },
  {
   "cell_type": "code",
   "execution_count": 71,
   "metadata": {},
   "outputs": [],
   "source": [
    "response = requests.get(\"https://gitlab.com/drvicsana/cop-proyecto-2023/-/raw/main/project_data/barrios.json\")\n",
    "ntas_db = json.loads(response.text)\n",
    "\n",
    "df = pd.DataFrame(ntas_db)"
   ]
  },
  {
   "cell_type": "code",
   "execution_count": 73,
   "metadata": {},
   "outputs": [],
   "source": [
    "pkv = df.drop(['name','shape_area','population'],axis=1)"
   ]
  },
  {
   "cell_type": "code",
   "execution_count": 75,
   "metadata": {},
   "outputs": [],
   "source": [
    "pkv.to_csv(\"/home/vant/Documentos/mySpace/cuarto/opt/projectI/Optimization_NY_Fire_Departments/aux_data/pkv.csv\")"
   ]
  }
 ],
 "metadata": {
  "kernelspec": {
   "display_name": "Python 3",
   "language": "python",
   "name": "python3"
  },
  "language_info": {
   "codemirror_mode": {
    "name": "ipython",
    "version": 3
   },
   "file_extension": ".py",
   "mimetype": "text/x-python",
   "name": "python",
   "nbconvert_exporter": "python",
   "pygments_lexer": "ipython3",
   "version": "3.10.12"
  }
 },
 "nbformat": 4,
 "nbformat_minor": 2
}
