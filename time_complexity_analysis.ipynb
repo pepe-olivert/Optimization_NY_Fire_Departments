{
 "cells": [
  {
   "cell_type": "code",
   "execution_count": 1,
   "metadata": {},
   "outputs": [],
   "source": [
    "from ortools.linear_solver import pywraplp\n",
    "import seaborn as sns\n",
    "import numpy as np\n",
    "import pandas as pd\n",
    "import time\n",
    "from models.problem_setup import setup"
   ]
  },
  {
   "cell_type": "markdown",
   "metadata": {},
   "source": [
    "## Model Implementation Empirical Time Assessment\n",
    "\n",
    "In this section, we proceed to study how different algorithms and solvers succeed in finding a solution to our problem with our model implementation."
   ]
  },
  {
   "cell_type": "code",
   "execution_count": null,
   "metadata": {},
   "outputs": [],
   "source": [
    "parameters = pywraplp.MPSolverParameters()"
   ]
  },
  {
   "cell_type": "markdown",
   "metadata": {},
   "source": [
    "#### Solver/Optimizer Analysis\n",
    "\n",
    "Despite not proving the solver in practical lessons, we include solvers like __Gurobi__, __XPRESS__ or __CPLEX__ in their suitable versions for MILP problems."
   ]
  },
  {
   "cell_type": "code",
   "execution_count": null,
   "metadata": {},
   "outputs": [],
   "source": [
    "solver_params = {}\n",
    "\n",
    "solver_types = [\"GLOP\",\"SCIP\",\"GUROBI\",\"CPLEX\",\"XPRESS\"]\n",
    "for algorithm in solver_types:\n",
    "    solver = pywraplp.Solver.CreateSolver(algorithm)\n",
    "    \n",
    "    # setup function works as a wraper that takes a solver redefined with \n",
    "    # certain variations in parameters or even solver type in the previous line\n",
    "    # together with the variables, constraints and objective function.\n",
    "    # It will return the solver with the appropiate changes in the parameters provided\n",
    "    \n",
    "    solver = setup(INTRODUCE VARIABLES, CONSTRAINTS AND OBJECTIVE FUNCTION,solver)\n",
    "    solver_params[algorithm] = []\n",
    "    for i in range(30):\n",
    "        t = time.time()\n",
    "        solver.Solve()\n",
    "        solver_params[algorithm].append(time.time()-t)\n",
    "\n"
   ]
  },
  {
   "cell_type": "code",
   "execution_count": null,
   "metadata": {},
   "outputs": [],
   "source": [
    "sns.barplot()"
   ]
  },
  {
   "cell_type": "code",
   "execution_count": 6,
   "metadata": {},
   "outputs": [
    {
     "data": {
      "text/plain": [
       "<ortools.linear_solver.pywraplp.MPSolverParameters; proxy of <Swig Object of type 'operations_research::MPSolverParameters *' at 0x000001DFC15BE010> >"
      ]
     },
     "execution_count": 6,
     "metadata": {},
     "output_type": "execute_result"
    }
   ],
   "source": [
    "pywraplp.MPSolverParameters()"
   ]
  }
 ],
 "metadata": {
  "kernelspec": {
   "display_name": "Python 3",
   "language": "python",
   "name": "python3"
  },
  "language_info": {
   "codemirror_mode": {
    "name": "ipython",
    "version": 3
   },
   "file_extension": ".py",
   "mimetype": "text/x-python",
   "name": "python",
   "nbconvert_exporter": "python",
   "pygments_lexer": "ipython3",
   "version": "3.11.2"
  }
 },
 "nbformat": 4,
 "nbformat_minor": 2
}
